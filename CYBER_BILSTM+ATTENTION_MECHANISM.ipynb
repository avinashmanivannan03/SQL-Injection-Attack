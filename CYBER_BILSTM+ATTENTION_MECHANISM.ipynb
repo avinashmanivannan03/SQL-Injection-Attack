{
  "nbformat": 4,
  "nbformat_minor": 0,
  "metadata": {
    "colab": {
      "provenance": [],
      "gpuType": "T4"
    },
    "kernelspec": {
      "name": "python3",
      "display_name": "Python 3"
    },
    "language_info": {
      "name": "python"
    },
    "accelerator": "GPU"
  },
  "cells": [
    {
      "cell_type": "code",
      "execution_count": null,
      "metadata": {
        "colab": {
          "base_uri": "https://localhost:8080/",
          "height": 1000
        },
        "id": "CeZ8OkI1qJ-M",
        "outputId": "772bce9f-dffe-44b2-9385-c7b7530ca7c9"
      },
      "outputs": [
        {
          "output_type": "display_data",
          "data": {
            "text/plain": [
              "\u001b[1mModel: \"functional\"\u001b[0m\n"
            ],
            "text/html": [
              "<pre style=\"white-space:pre;overflow-x:auto;line-height:normal;font-family:Menlo,'DejaVu Sans Mono',consolas,'Courier New',monospace\"><span style=\"font-weight: bold\">Model: \"functional\"</span>\n",
              "</pre>\n"
            ]
          },
          "metadata": {}
        },
        {
          "output_type": "display_data",
          "data": {
            "text/plain": [
              "┏━━━━━━━━━━━━━━━━━━━━━━━━━━━━━━━━━━━━━━┳━━━━━━━━━━━━━━━━━━━━━━━━━━━━━┳━━━━━━━━━━━━━━━━━┓\n",
              "┃\u001b[1m \u001b[0m\u001b[1mLayer (type)                        \u001b[0m\u001b[1m \u001b[0m┃\u001b[1m \u001b[0m\u001b[1mOutput Shape               \u001b[0m\u001b[1m \u001b[0m┃\u001b[1m \u001b[0m\u001b[1m        Param #\u001b[0m\u001b[1m \u001b[0m┃\n",
              "┡━━━━━━━━━━━━━━━━━━━━━━━━━━━━━━━━━━━━━━╇━━━━━━━━━━━━━━━━━━━━━━━━━━━━━╇━━━━━━━━━━━━━━━━━┩\n",
              "│ input_layer (\u001b[38;5;33mInputLayer\u001b[0m)             │ (\u001b[38;5;45mNone\u001b[0m, \u001b[38;5;34m128\u001b[0m)                 │               \u001b[38;5;34m0\u001b[0m │\n",
              "├──────────────────────────────────────┼─────────────────────────────┼─────────────────┤\n",
              "│ embedding (\u001b[38;5;33mEmbedding\u001b[0m)                │ (\u001b[38;5;45mNone\u001b[0m, \u001b[38;5;34m128\u001b[0m, \u001b[38;5;34m128\u001b[0m)            │       \u001b[38;5;34m1,280,000\u001b[0m │\n",
              "├──────────────────────────────────────┼─────────────────────────────┼─────────────────┤\n",
              "│ bidirectional (\u001b[38;5;33mBidirectional\u001b[0m)        │ (\u001b[38;5;45mNone\u001b[0m, \u001b[38;5;34m128\u001b[0m, \u001b[38;5;34m128\u001b[0m)            │          \u001b[38;5;34m98,816\u001b[0m │\n",
              "├──────────────────────────────────────┼─────────────────────────────┼─────────────────┤\n",
              "│ attention_layer (\u001b[38;5;33mAttentionLayer\u001b[0m)     │ (\u001b[38;5;45mNone\u001b[0m, \u001b[38;5;34m128\u001b[0m)                 │             \u001b[38;5;34m256\u001b[0m │\n",
              "├──────────────────────────────────────┼─────────────────────────────┼─────────────────┤\n",
              "│ dense (\u001b[38;5;33mDense\u001b[0m)                        │ (\u001b[38;5;45mNone\u001b[0m, \u001b[38;5;34m32\u001b[0m)                  │           \u001b[38;5;34m4,128\u001b[0m │\n",
              "├──────────────────────────────────────┼─────────────────────────────┼─────────────────┤\n",
              "│ dropout (\u001b[38;5;33mDropout\u001b[0m)                    │ (\u001b[38;5;45mNone\u001b[0m, \u001b[38;5;34m32\u001b[0m)                  │               \u001b[38;5;34m0\u001b[0m │\n",
              "├──────────────────────────────────────┼─────────────────────────────┼─────────────────┤\n",
              "│ dense_1 (\u001b[38;5;33mDense\u001b[0m)                      │ (\u001b[38;5;45mNone\u001b[0m, \u001b[38;5;34m1\u001b[0m)                   │              \u001b[38;5;34m33\u001b[0m │\n",
              "└──────────────────────────────────────┴─────────────────────────────┴─────────────────┘\n"
            ],
            "text/html": [
              "<pre style=\"white-space:pre;overflow-x:auto;line-height:normal;font-family:Menlo,'DejaVu Sans Mono',consolas,'Courier New',monospace\">┏━━━━━━━━━━━━━━━━━━━━━━━━━━━━━━━━━━━━━━┳━━━━━━━━━━━━━━━━━━━━━━━━━━━━━┳━━━━━━━━━━━━━━━━━┓\n",
              "┃<span style=\"font-weight: bold\"> Layer (type)                         </span>┃<span style=\"font-weight: bold\"> Output Shape                </span>┃<span style=\"font-weight: bold\">         Param # </span>┃\n",
              "┡━━━━━━━━━━━━━━━━━━━━━━━━━━━━━━━━━━━━━━╇━━━━━━━━━━━━━━━━━━━━━━━━━━━━━╇━━━━━━━━━━━━━━━━━┩\n",
              "│ input_layer (<span style=\"color: #0087ff; text-decoration-color: #0087ff\">InputLayer</span>)             │ (<span style=\"color: #00d7ff; text-decoration-color: #00d7ff\">None</span>, <span style=\"color: #00af00; text-decoration-color: #00af00\">128</span>)                 │               <span style=\"color: #00af00; text-decoration-color: #00af00\">0</span> │\n",
              "├──────────────────────────────────────┼─────────────────────────────┼─────────────────┤\n",
              "│ embedding (<span style=\"color: #0087ff; text-decoration-color: #0087ff\">Embedding</span>)                │ (<span style=\"color: #00d7ff; text-decoration-color: #00d7ff\">None</span>, <span style=\"color: #00af00; text-decoration-color: #00af00\">128</span>, <span style=\"color: #00af00; text-decoration-color: #00af00\">128</span>)            │       <span style=\"color: #00af00; text-decoration-color: #00af00\">1,280,000</span> │\n",
              "├──────────────────────────────────────┼─────────────────────────────┼─────────────────┤\n",
              "│ bidirectional (<span style=\"color: #0087ff; text-decoration-color: #0087ff\">Bidirectional</span>)        │ (<span style=\"color: #00d7ff; text-decoration-color: #00d7ff\">None</span>, <span style=\"color: #00af00; text-decoration-color: #00af00\">128</span>, <span style=\"color: #00af00; text-decoration-color: #00af00\">128</span>)            │          <span style=\"color: #00af00; text-decoration-color: #00af00\">98,816</span> │\n",
              "├──────────────────────────────────────┼─────────────────────────────┼─────────────────┤\n",
              "│ attention_layer (<span style=\"color: #0087ff; text-decoration-color: #0087ff\">AttentionLayer</span>)     │ (<span style=\"color: #00d7ff; text-decoration-color: #00d7ff\">None</span>, <span style=\"color: #00af00; text-decoration-color: #00af00\">128</span>)                 │             <span style=\"color: #00af00; text-decoration-color: #00af00\">256</span> │\n",
              "├──────────────────────────────────────┼─────────────────────────────┼─────────────────┤\n",
              "│ dense (<span style=\"color: #0087ff; text-decoration-color: #0087ff\">Dense</span>)                        │ (<span style=\"color: #00d7ff; text-decoration-color: #00d7ff\">None</span>, <span style=\"color: #00af00; text-decoration-color: #00af00\">32</span>)                  │           <span style=\"color: #00af00; text-decoration-color: #00af00\">4,128</span> │\n",
              "├──────────────────────────────────────┼─────────────────────────────┼─────────────────┤\n",
              "│ dropout (<span style=\"color: #0087ff; text-decoration-color: #0087ff\">Dropout</span>)                    │ (<span style=\"color: #00d7ff; text-decoration-color: #00d7ff\">None</span>, <span style=\"color: #00af00; text-decoration-color: #00af00\">32</span>)                  │               <span style=\"color: #00af00; text-decoration-color: #00af00\">0</span> │\n",
              "├──────────────────────────────────────┼─────────────────────────────┼─────────────────┤\n",
              "│ dense_1 (<span style=\"color: #0087ff; text-decoration-color: #0087ff\">Dense</span>)                      │ (<span style=\"color: #00d7ff; text-decoration-color: #00d7ff\">None</span>, <span style=\"color: #00af00; text-decoration-color: #00af00\">1</span>)                   │              <span style=\"color: #00af00; text-decoration-color: #00af00\">33</span> │\n",
              "└──────────────────────────────────────┴─────────────────────────────┴─────────────────┘\n",
              "</pre>\n"
            ]
          },
          "metadata": {}
        },
        {
          "output_type": "display_data",
          "data": {
            "text/plain": [
              "\u001b[1m Total params: \u001b[0m\u001b[38;5;34m1,383,233\u001b[0m (5.28 MB)\n"
            ],
            "text/html": [
              "<pre style=\"white-space:pre;overflow-x:auto;line-height:normal;font-family:Menlo,'DejaVu Sans Mono',consolas,'Courier New',monospace\"><span style=\"font-weight: bold\"> Total params: </span><span style=\"color: #00af00; text-decoration-color: #00af00\">1,383,233</span> (5.28 MB)\n",
              "</pre>\n"
            ]
          },
          "metadata": {}
        },
        {
          "output_type": "display_data",
          "data": {
            "text/plain": [
              "\u001b[1m Trainable params: \u001b[0m\u001b[38;5;34m1,383,233\u001b[0m (5.28 MB)\n"
            ],
            "text/html": [
              "<pre style=\"white-space:pre;overflow-x:auto;line-height:normal;font-family:Menlo,'DejaVu Sans Mono',consolas,'Courier New',monospace\"><span style=\"font-weight: bold\"> Trainable params: </span><span style=\"color: #00af00; text-decoration-color: #00af00\">1,383,233</span> (5.28 MB)\n",
              "</pre>\n"
            ]
          },
          "metadata": {}
        },
        {
          "output_type": "display_data",
          "data": {
            "text/plain": [
              "\u001b[1m Non-trainable params: \u001b[0m\u001b[38;5;34m0\u001b[0m (0.00 B)\n"
            ],
            "text/html": [
              "<pre style=\"white-space:pre;overflow-x:auto;line-height:normal;font-family:Menlo,'DejaVu Sans Mono',consolas,'Courier New',monospace\"><span style=\"font-weight: bold\"> Non-trainable params: </span><span style=\"color: #00af00; text-decoration-color: #00af00\">0</span> (0.00 B)\n",
              "</pre>\n"
            ]
          },
          "metadata": {}
        },
        {
          "output_type": "stream",
          "name": "stdout",
          "text": [
            "Epoch 1/15\n",
            "\u001b[1m1229/1229\u001b[0m \u001b[32m━━━━━━━━━━━━━━━━━━━━\u001b[0m\u001b[37m\u001b[0m \u001b[1m27s\u001b[0m 17ms/step - accuracy: 0.9278 - loss: 0.1879 - val_accuracy: 0.9537 - val_loss: 0.3622\n",
            "Epoch 2/15\n",
            "\u001b[1m1229/1229\u001b[0m \u001b[32m━━━━━━━━━━━━━━━━━━━━\u001b[0m\u001b[37m\u001b[0m \u001b[1m20s\u001b[0m 16ms/step - accuracy: 0.9811 - loss: 0.0739 - val_accuracy: 0.9655 - val_loss: 0.4066\n",
            "Epoch 3/15\n",
            "\u001b[1m1229/1229\u001b[0m \u001b[32m━━━━━━━━━━━━━━━━━━━━\u001b[0m\u001b[37m\u001b[0m \u001b[1m21s\u001b[0m 16ms/step - accuracy: 0.9841 - loss: 0.0540 - val_accuracy: 0.9627 - val_loss: 0.5019\n",
            "Epoch 4/15\n",
            "\u001b[1m1229/1229\u001b[0m \u001b[32m━━━━━━━━━━━━━━━━━━━━\u001b[0m\u001b[37m\u001b[0m \u001b[1m22s\u001b[0m 17ms/step - accuracy: 0.9835 - loss: 0.0477 - val_accuracy: 0.9613 - val_loss: 0.3699\n",
            "\u001b[1m773/773\u001b[0m \u001b[32m━━━━━━━━━━━━━━━━━━━━\u001b[0m\u001b[37m\u001b[0m \u001b[1m4s\u001b[0m 5ms/step\n",
            "\n",
            "Classification Report:\n",
            "              precision    recall  f1-score   support\n",
            "\n",
            "           0       0.98      0.12      0.22     13134\n",
            "           1       0.50      1.00      0.67     11573\n",
            "\n",
            "    accuracy                           0.53     24707\n",
            "   macro avg       0.74      0.56      0.44     24707\n",
            "weighted avg       0.75      0.53      0.43     24707\n",
            "\n",
            "\n",
            "Confusion Matrix:\n",
            "[[ 1598 11536]\n",
            " [   40 11533]]\n"
          ]
        },
        {
          "output_type": "display_data",
          "data": {
            "text/plain": [
              "<Figure size 640x480 with 1 Axes>"
            ],
            "image/png": "[encoded data removed]"
          },
          "metadata": {}
        }
      ],
      "source": [
        "import pandas as pd\n",
        "import numpy as np\n",
        "import tensorflow as tf\n",
        "from tensorflow.keras.preprocessing.text import Tokenizer\n",
        "from tensorflow.keras.preprocessing.sequence import pad_sequences\n",
        "from tensorflow.keras.layers import Input, Embedding, Bidirectional, LSTM, Dense, Dropout\n",
        "from tensorflow.keras.models import Model\n",
        "from tensorflow.keras.callbacks import EarlyStopping\n",
        "from sklearn.model_selection import train_test_split\n",
        "from sklearn.metrics import classification_report, confusion_matrix\n",
        "import matplotlib.pyplot as plt\n",
        "\n",
        "# Custom Attention Layer\n",
        "class AttentionLayer(tf.keras.layers.Layer):\n",
        "    def __init__(self, **kwargs):\n",
        "        super(AttentionLayer, self).__init__(**kwargs)\n",
        "\n",
        "    def build(self, input_shape):\n",
        "        self.W = self.add_weight(name='attention_weight',\n",
        "                               shape=(input_shape[-1], 1),\n",
        "                               initializer='random_normal',\n",
        "                               trainable=True)\n",
        "        self.b = self.add_weight(name='attention_bias',\n",
        "                               shape=(input_shape[1], 1),\n",
        "                               initializer='zeros',\n",
        "                               trainable=True)\n",
        "        super(AttentionLayer, self).build(input_shape)\n",
        "\n",
        "    def call(self, x):\n",
        "        et = tf.nn.tanh(tf.matmul(x, self.W) + self.b)\n",
        "        at = tf.nn.softmax(et, axis=1)\n",
        "        at = tf.transpose(at, perm=[0,2,1])\n",
        "        output = tf.matmul(at, x)\n",
        "        return tf.squeeze(output, axis=1)\n",
        "\n",
        "# Load datasets\n",
        "train_df = pd.read_csv('trainingdata.csv')\n",
        "test_df = pd.read_csv('testingdata.csv')\n",
        "\n",
        "# Preprocessing\n",
        "max_words = 10000\n",
        "max_len = 128\n",
        "\n",
        "tokenizer = Tokenizer(num_words=max_words, oov_token='<OOV>')\n",
        "tokenizer.fit_on_texts(train_df['Query'])\n",
        "\n",
        "# Convert text to sequences\n",
        "X_train = tokenizer.texts_to_sequences(train_df['Query'])\n",
        "X_test = tokenizer.texts_to_sequences(test_df['Query'])\n",
        "\n",
        "# Padding sequences\n",
        "X_train = pad_sequences(X_train, maxlen=max_len, padding='post')\n",
        "X_test = pad_sequences(X_test, maxlen=max_len, padding='post')\n",
        "\n",
        "# Labels\n",
        "y_train = train_df['Label'].values\n",
        "y_test = test_df['Label'].values\n",
        "\n",
        "# Model architecture\n",
        "def create_model():\n",
        "    inputs = Input(shape=(max_len,))\n",
        "    embedding = Embedding(input_dim=max_words, output_dim=128)(inputs)\n",
        "\n",
        "    lstm_out = Bidirectional(LSTM(64, return_sequences=True))(embedding)\n",
        "\n",
        "    attention = AttentionLayer()(lstm_out)\n",
        "\n",
        "    dense = Dense(32, activation='relu')(attention)\n",
        "    dropout = Dropout(0.5)(dense)\n",
        "    outputs = Dense(1, activation='sigmoid')(dropout)\n",
        "\n",
        "    model = Model(inputs=inputs, outputs=outputs)\n",
        "    model.compile(\n",
        "        loss='binary_crossentropy',\n",
        "        optimizer='adam',\n",
        "        metrics=['accuracy']\n",
        "    )\n",
        "    return model\n",
        "\n",
        "model = create_model()\n",
        "model.summary()\n",
        "\n",
        "# Training\n",
        "early_stop = EarlyStopping(monitor='val_loss', patience=3, restore_best_weights=True)\n",
        "history = model.fit(\n",
        "    X_train, y_train,\n",
        "    epochs=15,\n",
        "    batch_size=64,\n",
        "    validation_split=0.2,\n",
        "    callbacks=[early_stop]\n",
        ")\n",
        "\n",
        "# Evaluation\n",
        "y_pred = model.predict(X_test)\n",
        "y_pred = (y_pred > 0.5).astype(int)\n",
        "\n",
        "print(\"\\nClassification Report:\")\n",
        "print(classification_report(y_test, y_pred))\n",
        "\n",
        "print(\"\\nConfusion Matrix:\")\n",
        "print(confusion_matrix(y_test, y_pred))\n",
        "\n",
        "# Plot training history\n",
        "plt.plot(history.history['accuracy'], label='Train Accuracy')\n",
        "plt.plot(history.history['val_accuracy'], label='Validation Accuracy')\n",
        "plt.title('Model Training History')\n",
        "plt.ylabel('Accuracy')\n",
        "plt.xlabel('Epoch')\n",
        "plt.legend()\n",
        "plt.show()\n"
      ]
    },
    {
      "cell_type": "code",
      "source": [
        "from sklearn.metrics import accuracy_score\n",
        "\n",
        "# Calculate and print accuracy\n",
        "test_accuracy = accuracy_score(y_test, y_pred)\n",
        "print(f\"\\nTest Accuracy: {test_accuracy:.4f}\")"
      ],
      "metadata": {
        "colab": {
          "base_uri": "https://localhost:8080/"
        },
        "id": "qwZHCb2YsEjK",
        "outputId": "7c010e66-5cf9-4f55-f404-9472aa641890"
      },
      "execution_count": null,
      "outputs": [
        {
          "output_type": "stream",
          "name": "stdout",
          "text": [
            "\n",
            "Test Accuracy: 0.5315\n"
          ]
        }
      ]
    },
    {
      "cell_type": "code",
      "source": [
        "# Evaluation\n",
        "y_pred = model.predict(X_test)\n",
        "y_pred = (y_pred > 0.5).astype(int)\n",
        "\n",
        "# Calculate accuracy\n",
        "test_accuracy = accuracy_score(y_test, y_pred)\n",
        "print(f\"\\nTest Accuracy: {test_accuracy:.4f}\")\n",
        "\n",
        "print(\"\\nClassification Report:\")\n",
        "print(classification_report(y_test, y_pred))\n",
        "\n",
        "print(\"\\nConfusion Matrix:\")\n",
        "print(confusion_matrix(y_test, y_pred))"
      ],
      "metadata": {
        "colab": {
          "base_uri": "https://localhost:8080/"
        },
        "id": "HJhIgyEL0asI",
        "outputId": "d36634e4-142a-42f7-fdfb-ea1f37efa86c"
      },
      "execution_count": null,
      "outputs": [
        {
          "output_type": "stream",
          "name": "stdout",
          "text": [
            "\u001b[1m773/773\u001b[0m \u001b[32m━━━━━━━━━━━━━━━━━━━━\u001b[0m\u001b[37m\u001b[0m \u001b[1m6s\u001b[0m 8ms/step\n",
            "\n",
            "Test Accuracy: 0.5315\n",
            "\n",
            "Classification Report:\n",
            "              precision    recall  f1-score   support\n",
            "\n",
            "           0       0.98      0.12      0.22     13134\n",
            "           1       0.50      1.00      0.67     11573\n",
            "\n",
            "    accuracy                           0.53     24707\n",
            "   macro avg       0.74      0.56      0.44     24707\n",
            "weighted avg       0.75      0.53      0.43     24707\n",
            "\n",
            "\n",
            "Confusion Matrix:\n",
            "[[ 1598 11536]\n",
            " [   40 11533]]\n"
          ]
        }
      ]
    },
    {
      "cell_type": "code",
      "source": [
        "model.save('sql_injection_model.h5')"
      ],
      "metadata": {
        "colab": {
          "base_uri": "https://localhost:8080/"
        },
        "id": "z-GHDs9W0hTD",
        "outputId": "d8e90508-938f-4c77-fc32-72d598f18d30"
      },
      "execution_count": null,
      "outputs": [
        {
          "output_type": "stream",
          "name": "stderr",
          "text": [
            "WARNING:absl:You are saving your model as an HDF5 file via `model.save()` or `keras.saving.save_model(model)`. This file format is considered legacy. We recommend using instead the native Keras format, e.g. `model.save('my_model.keras')` or `keras.saving.save_model(model, 'my_model.keras')`. \n"
          ]
        }
      ]
    },
    {
      "cell_type": "code",
      "source": [
        "# Add these lines at the end of your training script\n",
        "import pickle\n",
        "\n",
        "# Save tokenizer\n",
        "with open('tokenizer.pkl', 'wb') as handle:\n",
        "    pickle.dump(tokenizer, handle, protocol=pickle.HIGHEST_PROTOCOL)\n"
      ],
      "metadata": {
        "id": "KertDTuY3xCE"
      },
      "execution_count": null,
      "outputs": []
    },
    {
      "cell_type": "code",
      "source": [
        "import pandas as pd\n",
        "import numpy as np\n",
        "import tensorflow as tf\n",
        "from tensorflow.keras.preprocessing.text import Tokenizer\n",
        "from tensorflow.keras.preprocessing.sequence import pad_sequences\n",
        "import pickle\n",
        "\n",
        "# Custom Attention Layer (must match training code)\n",
        "class AttentionLayer(tf.keras.layers.Layer):\n",
        "    def __init__(self, **kwargs):\n",
        "        super(AttentionLayer, self).__init__(**kwargs)\n",
        "\n",
        "    def build(self, input_shape):\n",
        "        self.W = self.add_weight(name='attention_weight',\n",
        "                               shape=(input_shape[-1], 1),\n",
        "                               initializer='random_normal',\n",
        "                               trainable=True)\n",
        "        self.b = self.add_weight(name='attention_bias',\n",
        "                               shape=(input_shape[1], 1),\n",
        "                               initializer='zeros',\n",
        "                               trainable=True)\n",
        "        super(AttentionLayer, self).build(input_shape)\n",
        "\n",
        "    def call(self, x):\n",
        "        et = tf.nn.tanh(tf.matmul(x, self.W) + self.b)\n",
        "        at = tf.nn.softmax(et, axis=1)\n",
        "        at = tf.transpose(at, perm=[0,2,1])\n",
        "        output = tf.matmul(at, x)\n",
        "        return tf.squeeze(output, axis=1)\n",
        "\n",
        "# Load model and tokenizer\n",
        "model = tf.keras.models.load_model('sql_injection_model.h5',\n",
        "                                  custom_objects={'AttentionLayer': AttentionLayer})\n",
        "\n",
        "with open('tokenizer.pkl', 'rb') as handle:\n",
        "    tokenizer = pickle.load(handle)\n",
        "\n",
        "# Prediction parameters (must match training)\n",
        "max_len = 128\n",
        "\n",
        "def predict_injection():\n",
        "    while True:\n",
        "        query = input(\"\\nEnter SQL query (or 'exit' to quit): \")\n",
        "        if query.lower() == 'exit':\n",
        "            break\n",
        "\n",
        "        # Preprocess input\n",
        "        sequence = tokenizer.texts_to_sequences([query])\n",
        "        padded = pad_sequences(sequence, maxlen=max_len, padding='post')\n",
        "\n",
        "        # Predict\n",
        "        prediction = model.predict(padded, verbose=0)\n",
        "        probability = prediction[0][0]\n",
        "        result = \"SQL Injection Detected!\" if probability > 0.5 else \"Safe Query\"\n",
        "\n",
        "        print(f\"\\nResult: {result}\")\n",
        "        print(f\"Confidence: {probability:.4f}\")\n",
        "        print(\"-\" * 50)\n",
        "\n",
        "if __name__ == \"__main__\":\n",
        "    print(\"SQL Injection Detection System\")\n",
        "    print(\"Enter SQL queries to analyze (type 'exit' to quit)\")\n",
        "    predict_injection()"
      ],
      "metadata": {
        "colab": {
          "base_uri": "https://localhost:8080/"
        },
        "id": "6_PzPvq_3WOZ",
        "outputId": "4d51ae7f-9332-417a-995c-25e5728f003e"
      },
      "execution_count": null,
      "outputs": [
        {
          "output_type": "stream",
          "name": "stderr",
          "text": [
            "WARNING:absl:Compiled the loaded model, but the compiled metrics have yet to be built. `model.compile_metrics` will be empty until you train or evaluate the model.\n"
          ]
        },
        {
          "name": "stdout",
          "output_type": "stream",
          "text": [
            "SQL Injection Detection System\n",
            "Enter SQL queries to analyze (type 'exit' to quit)\n",
            "\n",
            "Enter SQL query (or 'exit' to quit): 1%')) union all select null,null,null,null,null#\n",
            "\n",
            "Result: SQL Injection Detected!\n",
            "Confidence: 0.9999\n",
            "--------------------------------------------------\n",
            "\n",
            "Enter SQL query (or 'exit' to quit): INSERT INTO automobile ( make, model, year, color, mileage, engine_size, transmission,\n",
            "\n",
            "Result: Safe Query\n",
            "Confidence: 0.1714\n",
            "--------------------------------------------------\n",
            "\n",
            "Enter SQL query (or 'exit' to quit): XVAlThLc5NUBY1BoA4REXVAlThLc5NUBY1BoA4REXVAlThLc5NUBY1BoA4REXVAlThLc5NUBY1BoA4REXVAlThLc5NUBY1BoA4REXVAlThLc5NUBY1Bo\n",
            "\n",
            "Result: Safe Query\n",
            "Confidence: 0.1441\n",
            "--------------------------------------------------\n",
            "\n",
            "Enter SQL query (or 'exit' to quit): exit\n"
          ]
        }
      ]
    },
    {
      "cell_type": "code",
      "source": [
        "train_df.info()"
      ],
      "metadata": {
        "colab": {
          "base_uri": "https://localhost:8080/"
        },
        "id": "CSpfBFM23ZlH",
        "outputId": "4ece47e6-a3aa-4321-a45d-fa18a2e6b78a"
      },
      "execution_count": null,
      "outputs": [
        {
          "output_type": "stream",
          "name": "stdout",
          "text": [
            "<class 'pandas.core.frame.DataFrame'>\n",
            "RangeIndex: 98275 entries, 0 to 98274\n",
            "Data columns (total 2 columns):\n",
            " #   Column  Non-Null Count  Dtype \n",
            "---  ------  --------------  ----- \n",
            " 0   Query   98275 non-null  object\n",
            " 1   Label   98275 non-null  int64 \n",
            "dtypes: int64(1), object(1)\n",
            "memory usage: 1.5+ MB\n"
          ]
        }
      ]
    },
    {
      "cell_type": "code",
      "source": [
        "import pandas as pd\n",
        "import numpy as np\n",
        "import tensorflow as tf\n",
        "import re\n",
        "from tensorflow.keras.preprocessing.text import Tokenizer\n",
        "from tensorflow.keras.preprocessing.sequence import pad_sequences\n",
        "from tensorflow.keras.layers import Input, Embedding, Bidirectional, LSTM, Dense, Dropout, GRU\n",
        "from tensorflow.keras.models import Model\n",
        "from tensorflow.keras.callbacks import EarlyStopping, LearningRateScheduler\n",
        "from imblearn.over_sampling import SMOTE\n",
        "from sklearn.metrics import classification_report, confusion_matrix, precision_recall_curve\n",
        "import matplotlib.pyplot as plt\n",
        "import pickle\n",
        "\n",
        "# Custom Attention Layer\n",
        "class AttentionLayer(tf.keras.layers.Layer):\n",
        "    def __init__(self, **kwargs):\n",
        "        super(AttentionLayer, self).__init__(**kwargs)\n",
        "\n",
        "    def build(self, input_shape):\n",
        "        self.W = self.add_weight(name='attention_weight',\n",
        "                               shape=(input_shape[-1], 1),\n",
        "                               initializer='glorot_normal',\n",
        "                               trainable=True)\n",
        "        super(AttentionLayer, self).build(input_shape)\n",
        "\n",
        "    def call(self, x):\n",
        "        et = tf.nn.tanh(tf.matmul(x, self.W))\n",
        "        at = tf.nn.softmax(et, axis=1)\n",
        "        output = tf.reduce_sum(x * at, axis=1)\n",
        "        return output\n",
        "\n",
        "# SQL-specific preprocessing\n",
        "def preprocess_query(query):\n",
        "    query = re.sub(r\"'(.*?)'\", \"'?'\", query)  # Mask strings\n",
        "    query = re.sub(r\"\\b\\d+\\b\", \"?\", query)     # Mask numbers\n",
        "    query = re.sub(r\";\\s*--\", \";--\", query)    # Standardize comments\n",
        "    return query.strip()\n",
        "\n",
        "# Learning rate scheduler\n",
        "def lr_scheduler(epoch, lr):\n",
        "    if epoch < 5:\n",
        "        return 0.001\n",
        "    return 0.0001\n",
        "\n",
        "# Load and preprocess data\n",
        "train_df = pd.read_csv('trainingdata.csv')\n",
        "test_df = pd.read_csv('testingdata.csv')\n",
        "\n",
        "# Apply preprocessing\n",
        "train_df['Processed'] = train_df['Query'].apply(preprocess_query)\n",
        "test_df['Processed'] = test_df['Query'].apply(preprocess_query)\n",
        "\n",
        "# Tokenization\n",
        "max_words = 15000\n",
        "max_len = 256\n",
        "\n",
        "tokenizer = Tokenizer(num_words=max_words, oov_token='[UNK]', filters='')\n",
        "tokenizer.fit_on_texts(train_df['Processed'])\n",
        "\n",
        "# Sequence conversion\n",
        "X_train = tokenizer.texts_to_sequences(train_df['Processed'])\n",
        "X_test = tokenizer.texts_to_sequences(test_df['Processed'])\n",
        "X_train = pad_sequences(X_train, maxlen=max_len, padding='post')\n",
        "X_test = pad_sequences(X_test, maxlen=max_len, padding='post')\n",
        "y_train = train_df['Label'].values\n",
        "y_test = test_df['Label'].values\n",
        "\n",
        "# Class balancing\n",
        "smote = SMOTE(random_state=42)\n",
        "X_res, y_res = smote.fit_resample(X_train, y_train)\n",
        "\n",
        "# Add adversarial examples\n",
        "adversarial_queries = [\n",
        "    \"admin' OR ?=?--\",\n",
        "    \"' UNION SELECT * FROM ?--\",\n",
        "    \"?; DROP TABLE ?--\",\n",
        "    \"SELECT ?? FROM ? WHERE ?=?--\"\n",
        "]\n",
        "adv_sequences = tokenizer.texts_to_sequences(adversarial_queries)\n",
        "X_adv = pad_sequences(adv_sequences, maxlen=max_len, padding='post')\n",
        "X_res = np.vstack([X_res, X_adv])\n",
        "y_res = np.concatenate([y_res, np.ones(len(adversarial_queries))])\n",
        "\n",
        "# Model architecture\n",
        "def create_model():\n",
        "    inputs = Input(shape=(max_len,))\n",
        "    x = Embedding(input_dim=max_words, output_dim=256)(inputs)\n",
        "\n",
        "    # Bidirectional layers\n",
        "    x = Bidirectional(GRU(128, return_sequences=True))(x)\n",
        "    x = Bidirectional(LSTM(64, return_sequences=True))(x)\n",
        "\n",
        "    # Attention\n",
        "    x = AttentionLayer()(x)\n",
        "\n",
        "    # Classifier\n",
        "    x = Dense(64, activation='relu', kernel_regularizer='l2')(x)\n",
        "    x = Dropout(0.6)(x)\n",
        "    outputs = Dense(1, activation='sigmoid')(x)\n",
        "\n",
        "    model = Model(inputs=inputs, outputs=outputs)\n",
        "    model.compile(\n",
        "        optimizer=tf.keras.optimizers.Adam(),\n",
        "        loss='binary_crossentropy',\n",
        "        metrics=[\n",
        "            tf.keras.metrics.Precision(name='precision'),\n",
        "            tf.keras.metrics.Recall(name='recall'),\n",
        "            tf.keras.metrics.AUC(name='auc')\n",
        "        ]\n",
        "    )\n",
        "    return model\n",
        "\n",
        "model = create_model()\n",
        "\n",
        "# Training\n",
        "early_stop = EarlyStopping(monitor='val_auc', patience=5, restore_best_weights=True, mode='max')\n",
        "lr_callback = LearningRateScheduler(lr_scheduler)\n",
        "\n",
        "history = model.fit(\n",
        "    X_res, y_res,\n",
        "    epochs=20,\n",
        "    batch_size=128,\n",
        "    validation_split=0.2,\n",
        "    callbacks=[early_stop, lr_callback],\n",
        "    class_weight={0: 2.5, 1: 0.7}  # Penalize false negatives\n",
        ")\n",
        "\n",
        "# Threshold tuning\n",
        "y_pred_probs = model.predict(X_test)\n",
        "precisions, recalls, thresholds = precision_recall_curve(y_test, y_pred_probs)\n",
        "optimal_idx = np.argmax(precisions + recalls)\n",
        "optimal_threshold = thresholds[optimal_idx]\n",
        "\n",
        "# Evaluation\n",
        "y_pred = (y_pred_probs > optimal_threshold).astype(int)\n",
        "\n",
        "print(f\"Optimal Threshold: {optimal_threshold:.4f}\")\n",
        "print(\"\\nClassification Report:\")\n",
        "print(classification_report(y_test, y_pred))\n",
        "print(\"\\nConfusion Matrix:\")\n",
        "print(confusion_matrix(y_test, y_pred))\n",
        "\n",
        "# Save artifacts\n",
        "model.save('improved_model.h5')\n",
        "with open('tokenizer_2.pkl', 'wb') as handle:\n",
        "    pickle.dump(tokenizer, handle, protocol=pickle.HIGHEST_PROTOCOL)"
      ],
      "metadata": {
        "colab": {
          "base_uri": "https://localhost:8080/"
        },
        "id": "n4lQZ0Gg6beo",
        "outputId": "48a70873-b2ac-41f3-e404-81566354b1f3"
      },
      "execution_count": null,
      "outputs": [
        {
          "output_type": "stream",
          "name": "stdout",
          "text": [
            "Epoch 1/20\n",
            "\u001b[1m699/699\u001b[0m \u001b[32m━━━━━━━━━━━━━━━━━━━━\u001b[0m\u001b[37m\u001b[0m \u001b[1m69s\u001b[0m 90ms/step - auc: 0.9417 - loss: 0.5615 - precision: 0.9743 - recall: 0.8065 - val_auc: 0.9386 - val_loss: 0.6685 - val_precision: 0.0012 - val_recall: 1.0000 - learning_rate: 0.0010\n",
            "Epoch 2/20\n",
            "\u001b[1m699/699\u001b[0m \u001b[32m━━━━━━━━━━━━━━━━━━━━\u001b[0m\u001b[37m\u001b[0m \u001b[1m62s\u001b[0m 89ms/step - auc: 0.9938 - loss: 0.0806 - precision: 0.9981 - recall: 0.9728 - val_auc: 0.8728 - val_loss: 1.6894 - val_precision: 6.3121e-04 - val_recall: 1.0000 - learning_rate: 0.0010\n",
            "Epoch 3/20\n",
            "\u001b[1m699/699\u001b[0m \u001b[32m━━━━━━━━━━━━━━━━━━━━\u001b[0m\u001b[37m\u001b[0m \u001b[1m82s\u001b[0m 88ms/step - auc: 0.9963 - loss: 0.0644 - precision: 0.9985 - recall: 0.9752 - val_auc: 0.8926 - val_loss: 1.5613 - val_precision: 6.6138e-04 - val_recall: 1.0000 - learning_rate: 0.0010\n",
            "Epoch 4/20\n",
            "\u001b[1m699/699\u001b[0m \u001b[32m━━━━━━━━━━━━━━━━━━━━\u001b[0m\u001b[37m\u001b[0m \u001b[1m82s\u001b[0m 88ms/step - auc: 0.9968 - loss: 0.0538 - precision: 0.9986 - recall: 0.9802 - val_auc: 0.8820 - val_loss: 1.7612 - val_precision: 5.7712e-04 - val_recall: 1.0000 - learning_rate: 0.0010\n",
            "Epoch 5/20\n",
            "\u001b[1m699/699\u001b[0m \u001b[32m━━━━━━━━━━━━━━━━━━━━\u001b[0m\u001b[37m\u001b[0m \u001b[1m62s\u001b[0m 88ms/step - auc: 0.9976 - loss: 0.0460 - precision: 0.9981 - recall: 0.9856 - val_auc: 0.9357 - val_loss: 1.2359 - val_precision: 8.1516e-04 - val_recall: 1.0000 - learning_rate: 0.0010\n",
            "Epoch 6/20\n",
            "\u001b[1m699/699\u001b[0m \u001b[32m━━━━━━━━━━━━━━━━━━━━\u001b[0m\u001b[37m\u001b[0m \u001b[1m82s\u001b[0m 89ms/step - auc: 0.9982 - loss: 0.0351 - precision: 0.9990 - recall: 0.9884 - val_auc: 0.8696 - val_loss: 1.8852 - val_precision: 5.6593e-04 - val_recall: 1.0000 - learning_rate: 1.0000e-04\n",
            "\u001b[1m773/773\u001b[0m \u001b[32m━━━━━━━━━━━━━━━━━━━━\u001b[0m\u001b[37m\u001b[0m \u001b[1m12s\u001b[0m 15ms/step\n"
          ]
        },
        {
          "output_type": "stream",
          "name": "stderr",
          "text": [
            "WARNING:absl:You are saving your model as an HDF5 file via `model.save()` or `keras.saving.save_model(model)`. This file format is considered legacy. We recommend using instead the native Keras format, e.g. `model.save('my_model.keras')` or `keras.saving.save_model(model, 'my_model.keras')`. \n"
          ]
        },
        {
          "output_type": "stream",
          "name": "stdout",
          "text": [
            "Optimal Threshold: 0.0070\n",
            "\n",
            "Classification Report:\n",
            "              precision    recall  f1-score   support\n",
            "\n",
            "           0       0.99      0.06      0.12     13134\n",
            "           1       0.48      1.00      0.65     11573\n",
            "\n",
            "    accuracy                           0.50     24707\n",
            "   macro avg       0.74      0.53      0.39     24707\n",
            "weighted avg       0.76      0.50      0.37     24707\n",
            "\n",
            "\n",
            "Confusion Matrix:\n",
            "[[  844 12290]\n",
            " [    5 11568]]\n"
          ]
        }
      ]
    },
    {
      "cell_type": "code",
      "source": [
        "from sklearn.metrics import accuracy_score\n",
        "\n",
        "# Calculate and print accuracy\n",
        "test_accuracy = accuracy_score(y_test, y_pred)\n",
        "print(f\"\\nTest Accuracy: {test_accuracy:.4f}\")"
      ],
      "metadata": {
        "colab": {
          "base_uri": "https://localhost:8080/"
        },
        "id": "ATFgmjuz7T2U",
        "outputId": "ef86bf46-7e0e-42da-b275-493216d432c9"
      },
      "execution_count": null,
      "outputs": [
        {
          "output_type": "stream",
          "name": "stdout",
          "text": [
            "\n",
            "Test Accuracy: 0.5024\n"
          ]
        }
      ]
    },
    {
      "cell_type": "code",
      "source": [],
      "metadata": {
        "id": "hDO7K7RB9e-B"
      },
      "execution_count": null,
      "outputs": []
    }
  ]
}